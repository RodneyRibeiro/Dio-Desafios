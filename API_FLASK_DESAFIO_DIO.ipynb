{
  "nbformat": 4,
  "nbformat_minor": 0,
  "metadata": {
    "colab": {
      "provenance": [],
      "toc_visible": true,
      "authorship_tag": "ABX9TyN1x9wkfovljHKZ88qP57Qk",
      "include_colab_link": true
    },
    "kernelspec": {
      "name": "python3",
      "display_name": "Python 3"
    },
    "language_info": {
      "name": "python"
    }
  },
  "cells": [
    {
      "cell_type": "markdown",
      "metadata": {
        "id": "view-in-github",
        "colab_type": "text"
      },
      "source": [
        "<a href=\"https://colab.research.google.com/github/RodneyRibeiro/Dio-Desafios/blob/Desafios_Dio/API_FLASK_DESAFIO_DIO.ipynb\" target=\"_parent\"><img src=\"https://colab.research.google.com/assets/colab-badge.svg\" alt=\"Open In Colab\"/></a>"
      ]
    },
    {
      "cell_type": "code",
      "execution_count": null,
      "metadata": {
        "id": "ttXDQPEUfRBJ"
      },
      "outputs": [],
      "source": [
        "!pip install pandas pyngrok flask_ngrok flask"
      ]
    },
    {
      "cell_type": "code",
      "source": [
        "import pandas as pd\n",
        "import random\n",
        "from flask import Flask, jsonify, request\n",
        "from pyngrok import ngrok\n",
        "import threading\n",
        "import socket\n",
        "\n",
        "app = Flask(__name__)\n",
        "\n",
        "porta = 5000\n",
        "\n",
        "def porta_em_uso(porta):\n",
        "    with socket.socket(socket.AF_INET, socket.SOCK_STREAM) as s:\n",
        "        return s.connect_ex(('localhost', porta)) == 0\n",
        "\n",
        "while porta_em_uso(porta):\n",
        "  porta += 1\n",
        "\n",
        "@app.route('/api/data', methods=['POST'])\n",
        "def receive_data():\n",
        "    data = request.json\n",
        "    df = pd.DataFrame([data])\n",
        "    return jsonify(df.to_dict()), 200\n",
        "\n",
        "\n",
        "def run_flask():\n",
        "    app.run()\n",
        "\n",
        "\n",
        "def start_ngrok():\n",
        "    url = ngrok.connect(porta)\n",
        "    print(f\"ngrok URL: {url}\")\n",
        "\n",
        "ngrok.set_auth_token(\"2i5iVsqfhuwxZFQ5QTKk3vk5NLZ_37SbhrfnbdxFcE4dFTk1h\")\n",
        "\n",
        "flask_thread = threading.Thread(target=run_flask)\n",
        "ngrok_thread = threading.Thread(target=start_ngrok)\n",
        "\n",
        "flask_thread.start()\n",
        "ngrok_thread.start()\n",
        "\n",
        "flask_thread.join()\n",
        "ngrok_thread.join()"
      ],
      "metadata": {
        "id": "9k44qWMZfX55",
        "colab": {
          "base_uri": "https://localhost:8080/"
        },
        "outputId": "e9beebf8-f72b-4921-e230-153b01e4d043"
      },
      "execution_count": null,
      "outputs": [
        {
          "output_type": "stream",
          "name": "stdout",
          "text": [
            " * Serving Flask app '__main__'\n",
            " * Debug mode: off\n"
          ]
        },
        {
          "output_type": "stream",
          "name": "stderr",
          "text": [
            "INFO:werkzeug:\u001b[31m\u001b[1mWARNING: This is a development server. Do not use it in a production deployment. Use a production WSGI server instead.\u001b[0m\n",
            " * Running on http://127.0.0.1:5000\n",
            "INFO:werkzeug:\u001b[33mPress CTRL+C to quit\u001b[0m\n"
          ]
        },
        {
          "output_type": "stream",
          "name": "stdout",
          "text": [
            "ngrok URL: NgrokTunnel: \"https://7e15-35-194-211-245.ngrok-free.app\" -> \"http://localhost:5000\"\n"
          ]
        }
      ]
    },
    {
      "cell_type": "code",
      "source": [
        "import requests\n",
        "data = {\n",
        "    \"name\" : \"Rodney\",\n",
        "    \"age\" : 36,\n",
        "    \"city\" : \"Belo Horizonte\"\n",
        "}\n",
        "\n",
        "url = 'https://7e15-35-194-211-245.ngrok-free.app/api/data'\n",
        "\n",
        "response = requests.post(url, json=data)\n",
        "print(f\"Response from Flask API: {response.json()}\")"
      ],
      "metadata": {
        "id": "dD2x2aqmgFre"
      },
      "execution_count": null,
      "outputs": []
    }
  ]
}